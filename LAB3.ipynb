{
 "cells": [
  {
   "cell_type": "code",
   "execution_count": 1,
   "metadata": {},
   "outputs": [],
   "source": [
    "import numpy as np\n",
    "import pandas as pd\n",
    "import seaborn as sns\n",
    "import matplotlib.pyplot as plt"
   ]
  },
  {
   "attachments": {},
   "cell_type": "markdown",
   "metadata": {},
   "source": [
    "1) ¿Cuál es el tamaño en bytes de un array de 1000\n",
    "elementos de tipo booleano?"
   ]
  },
  {
   "cell_type": "code",
   "execution_count": 2,
   "metadata": {},
   "outputs": [
    {
     "name": "stdout",
     "output_type": "stream",
     "text": [
      "el tamaño del array es: 1000 Bytes\n"
     ]
    }
   ],
   "source": [
    "\n",
    "arr = np.ones(1000, dtype=bool)\n",
    "tamanio = arr.nbytes\n",
    "print(f\"el tamaño del array es: {tamanio} Bytes\") "
   ]
  },
  {
   "attachments": {},
   "cell_type": "markdown",
   "metadata": {},
   "source": [
    "2) Cree un array cuyos elementos sean los enteros pares en\n",
    "[1,100] y en orden decreciente. Muestre los 10 últimos\n",
    "por pantalla."
   ]
  },
  {
   "cell_type": "code",
   "execution_count": 3,
   "metadata": {},
   "outputs": [
    {
     "name": "stdout",
     "output_type": "stream",
     "text": [
      "[998 996 994 992 990 988 986 984 982 980]\n"
     ]
    }
   ],
   "source": [
    "arr = np.arange(2, 1000, 2)\n",
    "arr = np.flip(arr)\n",
    "print(arr[:10])"
   ]
  },
  {
   "attachments": {},
   "cell_type": "markdown",
   "metadata": {},
   "source": [
    "3) Dado el array\n",
    "2 4 5 6\n",
    "0 3 7 4\n",
    "8 8 5 2\n",
    "1 5 6 1"
   ]
  },
  {
   "cell_type": "code",
   "execution_count": 4,
   "metadata": {},
   "outputs": [
    {
     "name": "stdout",
     "output_type": "stream",
     "text": [
      "[0, 3, 7, 4] [2, 5, 8, 5]\n"
     ]
    }
   ],
   "source": [
    "arr = [2,4,5,6,0,3,7,4,8,8,5,2,1,5,6,1]\n",
    "subarr = arr[4:8]\n",
    "subarr2 = [arr[0], arr[2], arr[8], arr[10]]\n",
    "print(subarr,subarr2)"
   ]
  },
  {
   "attachments": {},
   "cell_type": "markdown",
   "metadata": {},
   "source": [
    "4) Dados los arrays a = [1, 4, 2, 7] y b = [1, 3, 2, 9],\n",
    "obtenga la media aritmética de la diferencia (a-b)."
   ]
  },
  {
   "cell_type": "code",
   "execution_count": 5,
   "metadata": {},
   "outputs": [
    {
     "name": "stdout",
     "output_type": "stream",
     "text": [
      "-0.25\n"
     ]
    }
   ],
   "source": [
    "a = np.array([1, 4, 2, 7])\n",
    "b = np.array([1, 3, 2, 9])\n",
    "r = np.mean(a - b)\n",
    "print(r)"
   ]
  },
  {
   "attachments": {},
   "cell_type": "markdown",
   "metadata": {},
   "source": [
    "5)"
   ]
  },
  {
   "cell_type": "code",
   "execution_count": 6,
   "metadata": {},
   "outputs": [
    {
     "data": {
      "text/plain": [
       "array([[ 1.33,  4.5 ],\n",
       "       [30.  , 10.7 ],\n",
       "       [70.2 ,  0.5 ],\n",
       "       [37.1 , -3.6 ]])"
      ]
     },
     "execution_count": 6,
     "metadata": {},
     "output_type": "execute_result"
    }
   ],
   "source": [
    "coor = np.array([[1.33, 4.5], [30.0, 10.7], [70.2, 0.5]])\n",
    "coorn = np.array([[37.1, -3.6]])\n",
    "matriz = np.vstack((coor, coorn))\n",
    "matriz"
   ]
  },
  {
   "attachments": {},
   "cell_type": "markdown",
   "metadata": {},
   "source": [
    "6) Copie el array del ejercicio anterior. Traspóngalo Agregue ahora dos nuevos pares de coordenadas: (10.8,3.0) y (35.8, 12.0)."
   ]
  },
  {
   "cell_type": "code",
   "execution_count": 7,
   "metadata": {},
   "outputs": [
    {
     "data": {
      "text/plain": [
       "array([[ 1.33, 30.  , 70.2 , 10.8 ,  3.  ],\n",
       "       [ 4.5 , 10.7 ,  0.5 , 35.8 , 12.  ]])"
      ]
     },
     "execution_count": 7,
     "metadata": {},
     "output_type": "execute_result"
    }
   ],
   "source": [
    "coortr = np.transpose(coor)\n",
    "coorN = np.array([[10.8, 3.0], [35.8, 12.0]])\n",
    "coord = np.hstack((coortr, coorN))\n",
    "coord"
   ]
  },
  {
   "attachments": {},
   "cell_type": "markdown",
   "metadata": {},
   "source": [
    "2DA PARTE"
   ]
  },
  {
   "cell_type": "markdown",
   "metadata": {},
   "source": [
    "1) ¿Cuántos Municipios tienen más de 100000 habitantes?."
   ]
  },
  {
   "cell_type": "code",
   "execution_count": 8,
   "metadata": {},
   "outputs": [
    {
     "name": "stdout",
     "output_type": "stream",
     "text": [
      "el numero de municipios con mas de 1000 habitantes es: 852\n"
     ]
    }
   ],
   "source": [
    "dataSet = pd.DataFrame(pd.read_csv('NucleosPoblacion.csv'))\n",
    "df = len(dataSet.where(dataSet[\"Poblacion\"] > 1000))\n",
    "print(f\"el numero de municipios con mas de 1000 habitantes es: {df}\")"
   ]
  },
  {
   "attachments": {},
   "cell_type": "markdown",
   "metadata": {},
   "source": [
    "2) Realice una gráfica de barras sobre la polbación de cada\n",
    "ciudad, ordenela de menor a mayo y responda:\n",
    "a. ¿Cuál es la segunda ciudad más poblada?\n",
    "b. ¿Qué posición ocupa Granada en el ranking de\n",
    "las ciudades más pobladas?"
   ]
  },
  {
   "attachments": {},
   "cell_type": "markdown",
   "metadata": {},
   "source": [
    "A) LA SEGUNDA CIUDAD MAS POBLADA ES BARCELONA\n",
    "B) GRANADA ESTA EN EL RANKING 17"
   ]
  },
  {
   "cell_type": "code",
   "execution_count": 9,
   "metadata": {},
   "outputs": [
    {
     "data": {
      "image/png": "[encoded data removed]",
      "text/plain": [
       "<Figure size 640x480 with 1 Axes>"
      ]
     },
     "metadata": {},
     "output_type": "display_data"
    }
   ],
   "source": [
    "\n",
    "dataSetN = dataSet.groupby('Provincia', as_index=False).sum('Poblacion').sort_values('Poblacion')\n",
    "graph = sns.barplot(x=dataSetN['Poblacion'], y=dataSetN['Provincia'])\n",
    "sns.set(rc={'figure.figsize':(10,20)})\n",
    "plt.show()"
   ]
  },
  {
   "attachments": {},
   "cell_type": "markdown",
   "metadata": {},
   "source": [
    "3) ¿Cuántos municipios de Extremadura tienen más de 5000\n",
    "habitantes?."
   ]
  },
  {
   "cell_type": "code",
   "execution_count": 10,
   "metadata": {},
   "outputs": [
    {
     "data": {
      "text/html": [
       "<div>\n",
       "<style scoped>\n",
       "    .dataframe tbody tr th:only-of-type {\n",
       "        vertical-align: middle;\n",
       "    }\n",
       "\n",
       "    .dataframe tbody tr th {\n",
       "        vertical-align: top;\n",
       "    }\n",
       "\n",
       "    .dataframe thead th {\n",
       "        text-align: right;\n",
       "    }\n",
       "</style>\n",
       "<table border=\"1\" class=\"dataframe\">\n",
       "  <thead>\n",
       "    <tr style=\"text-align: right;\">\n",
       "      <th></th>\n",
       "      <th>FID</th>\n",
       "      <th>OBJECTID</th>\n",
       "      <th>Texto</th>\n",
       "      <th>Poblacion</th>\n",
       "      <th>CodMun</th>\n",
       "      <th>Municipio</th>\n",
       "      <th>CodProvin</th>\n",
       "      <th>Provincia</th>\n",
       "      <th>X</th>\n",
       "      <th>Y</th>\n",
       "    </tr>\n",
       "  </thead>\n",
       "  <tbody>\n",
       "    <tr>\n",
       "      <th>41</th>\n",
       "      <td>41</td>\n",
       "      <td>42</td>\n",
       "      <td>Almendralejo</td>\n",
       "      <td>33975.0</td>\n",
       "      <td>6011</td>\n",
       "      <td>Almendralejo</td>\n",
       "      <td>6</td>\n",
       "      <td>Badajoz</td>\n",
       "      <td>-6.407780</td>\n",
       "      <td>38.684453</td>\n",
       "    </tr>\n",
       "    <tr>\n",
       "      <th>42</th>\n",
       "      <td>42</td>\n",
       "      <td>43</td>\n",
       "      <td>Badajoz</td>\n",
       "      <td>150376.0</td>\n",
       "      <td>6015</td>\n",
       "      <td>Badajoz</td>\n",
       "      <td>6</td>\n",
       "      <td>Badajoz</td>\n",
       "      <td>-6.970997</td>\n",
       "      <td>38.878743</td>\n",
       "    </tr>\n",
       "    <tr>\n",
       "      <th>43</th>\n",
       "      <td>43</td>\n",
       "      <td>44</td>\n",
       "      <td>Mérida</td>\n",
       "      <td>57127.0</td>\n",
       "      <td>6083</td>\n",
       "      <td>Mérida</td>\n",
       "      <td>6</td>\n",
       "      <td>Badajoz</td>\n",
       "      <td>-6.344172</td>\n",
       "      <td>38.917388</td>\n",
       "    </tr>\n",
       "    <tr>\n",
       "      <th>44</th>\n",
       "      <td>44</td>\n",
       "      <td>45</td>\n",
       "      <td>Montijo</td>\n",
       "      <td>16279.0</td>\n",
       "      <td>6088</td>\n",
       "      <td>Montijo</td>\n",
       "      <td>6</td>\n",
       "      <td>Badajoz</td>\n",
       "      <td>-6.617585</td>\n",
       "      <td>38.909787</td>\n",
       "    </tr>\n",
       "    <tr>\n",
       "      <th>45</th>\n",
       "      <td>45</td>\n",
       "      <td>46</td>\n",
       "      <td>Olivenza</td>\n",
       "      <td>11906.0</td>\n",
       "      <td>6095</td>\n",
       "      <td>Olivenza</td>\n",
       "      <td>6</td>\n",
       "      <td>Badajoz</td>\n",
       "      <td>-7.099598</td>\n",
       "      <td>38.685660</td>\n",
       "    </tr>\n",
       "    <tr>\n",
       "      <th>46</th>\n",
       "      <td>46</td>\n",
       "      <td>47</td>\n",
       "      <td>Villafranca de los Barros</td>\n",
       "      <td>13266.0</td>\n",
       "      <td>6149</td>\n",
       "      <td>Villafranca de los Barros</td>\n",
       "      <td>6</td>\n",
       "      <td>Badajoz</td>\n",
       "      <td>-6.339905</td>\n",
       "      <td>38.561153</td>\n",
       "    </tr>\n",
       "    <tr>\n",
       "      <th>47</th>\n",
       "      <td>47</td>\n",
       "      <td>48</td>\n",
       "      <td>Zafra</td>\n",
       "      <td>16433.0</td>\n",
       "      <td>6158</td>\n",
       "      <td>Zafra</td>\n",
       "      <td>6</td>\n",
       "      <td>Badajoz</td>\n",
       "      <td>-6.419306</td>\n",
       "      <td>38.426179</td>\n",
       "    </tr>\n",
       "    <tr>\n",
       "      <th>48</th>\n",
       "      <td>48</td>\n",
       "      <td>49</td>\n",
       "      <td>Cáceres</td>\n",
       "      <td>94179.0</td>\n",
       "      <td>10037</td>\n",
       "      <td>Cáceres</td>\n",
       "      <td>10</td>\n",
       "      <td>Cáceres</td>\n",
       "      <td>-6.371211</td>\n",
       "      <td>39.473168</td>\n",
       "    </tr>\n",
       "    <tr>\n",
       "      <th>49</th>\n",
       "      <td>49</td>\n",
       "      <td>50</td>\n",
       "      <td>Coria</td>\n",
       "      <td>12962.0</td>\n",
       "      <td>10067</td>\n",
       "      <td>Coria</td>\n",
       "      <td>10</td>\n",
       "      <td>Cáceres</td>\n",
       "      <td>-6.535874</td>\n",
       "      <td>39.984393</td>\n",
       "    </tr>\n",
       "    <tr>\n",
       "      <th>50</th>\n",
       "      <td>50</td>\n",
       "      <td>51</td>\n",
       "      <td>Plasencia</td>\n",
       "      <td>41447.0</td>\n",
       "      <td>10148</td>\n",
       "      <td>Plasencia</td>\n",
       "      <td>10</td>\n",
       "      <td>Cáceres</td>\n",
       "      <td>-6.092682</td>\n",
       "      <td>40.029405</td>\n",
       "    </tr>\n",
       "    <tr>\n",
       "      <th>210</th>\n",
       "      <td>210</td>\n",
       "      <td>211</td>\n",
       "      <td>Don Benito</td>\n",
       "      <td>36227.0</td>\n",
       "      <td>6044</td>\n",
       "      <td>Don Benito</td>\n",
       "      <td>6</td>\n",
       "      <td>Badajoz</td>\n",
       "      <td>-5.861275</td>\n",
       "      <td>38.954101</td>\n",
       "    </tr>\n",
       "    <tr>\n",
       "      <th>211</th>\n",
       "      <td>211</td>\n",
       "      <td>212</td>\n",
       "      <td>Villanueva de la Serena</td>\n",
       "      <td>26111.0</td>\n",
       "      <td>6153</td>\n",
       "      <td>Villanueva de la Serena</td>\n",
       "      <td>6</td>\n",
       "      <td>Badajoz</td>\n",
       "      <td>-5.799819</td>\n",
       "      <td>38.973908</td>\n",
       "    </tr>\n",
       "    <tr>\n",
       "      <th>215</th>\n",
       "      <td>215</td>\n",
       "      <td>216</td>\n",
       "      <td>Miajadas</td>\n",
       "      <td>10323.0</td>\n",
       "      <td>10121</td>\n",
       "      <td>Miajadas</td>\n",
       "      <td>10</td>\n",
       "      <td>Cáceres</td>\n",
       "      <td>-5.908295</td>\n",
       "      <td>39.152673</td>\n",
       "    </tr>\n",
       "    <tr>\n",
       "      <th>216</th>\n",
       "      <td>216</td>\n",
       "      <td>217</td>\n",
       "      <td>Navalmoral de la Mata</td>\n",
       "      <td>17309.0</td>\n",
       "      <td>10131</td>\n",
       "      <td>Navalmoral de la Mata</td>\n",
       "      <td>10</td>\n",
       "      <td>Cáceres</td>\n",
       "      <td>-5.540442</td>\n",
       "      <td>39.891062</td>\n",
       "    </tr>\n",
       "  </tbody>\n",
       "</table>\n",
       "</div>"
      ],
      "text/plain": [
       "     FID  OBJECTID                      Texto  Poblacion  CodMun   \n",
       "41    41        42               Almendralejo    33975.0    6011  \\\n",
       "42    42        43                    Badajoz   150376.0    6015   \n",
       "43    43        44                     Mérida    57127.0    6083   \n",
       "44    44        45                    Montijo    16279.0    6088   \n",
       "45    45        46                   Olivenza    11906.0    6095   \n",
       "46    46        47  Villafranca de los Barros    13266.0    6149   \n",
       "47    47        48                      Zafra    16433.0    6158   \n",
       "48    48        49                    Cáceres    94179.0   10037   \n",
       "49    49        50                      Coria    12962.0   10067   \n",
       "50    50        51                  Plasencia    41447.0   10148   \n",
       "210  210       211                 Don Benito    36227.0    6044   \n",
       "211  211       212    Villanueva de la Serena    26111.0    6153   \n",
       "215  215       216                   Miajadas    10323.0   10121   \n",
       "216  216       217      Navalmoral de la Mata    17309.0   10131   \n",
       "\n",
       "                     Municipio  CodProvin Provincia         X          Y  \n",
       "41                Almendralejo          6   Badajoz -6.407780  38.684453  \n",
       "42                     Badajoz          6   Badajoz -6.970997  38.878743  \n",
       "43                      Mérida          6   Badajoz -6.344172  38.917388  \n",
       "44                     Montijo          6   Badajoz -6.617585  38.909787  \n",
       "45                    Olivenza          6   Badajoz -7.099598  38.685660  \n",
       "46   Villafranca de los Barros          6   Badajoz -6.339905  38.561153  \n",
       "47                       Zafra          6   Badajoz -6.419306  38.426179  \n",
       "48                     Cáceres         10   Cáceres -6.371211  39.473168  \n",
       "49                       Coria         10   Cáceres -6.535874  39.984393  \n",
       "50                   Plasencia         10   Cáceres -6.092682  40.029405  \n",
       "210                 Don Benito          6   Badajoz -5.861275  38.954101  \n",
       "211    Villanueva de la Serena          6   Badajoz -5.799819  38.973908  \n",
       "215                   Miajadas         10   Cáceres -5.908295  39.152673  \n",
       "216      Navalmoral de la Mata         10   Cáceres -5.540442  39.891062  "
      ]
     },
     "execution_count": 10,
     "metadata": {},
     "output_type": "execute_result"
    }
   ],
   "source": [
    "extr = dataSet[dataSet['Provincia'].isin(['Badajoz', 'Cáceres'])].where(dataSet[\"Poblacion\"] > 5000)\n",
    "extr \n",
    "# RESPUESTA: SON 14 MUNICIPIOS"
   ]
  },
  {
   "cell_type": "markdown",
   "metadata": {},
   "source": [
    "4) ¿Cuál es el municipio situado más al Norte? (Usar el\n",
    "valor de la coordenada \"Y\" que representa la latitud en\n",
    "grados). Proporcione también la provincia a la que\n",
    "pertenece y su población."
   ]
  },
  {
   "cell_type": "code",
   "execution_count": 11,
   "metadata": {},
   "outputs": [
    {
     "data": {
      "text/html": [
       "<div>\n",
       "<style scoped>\n",
       "    .dataframe tbody tr th:only-of-type {\n",
       "        vertical-align: middle;\n",
       "    }\n",
       "\n",
       "    .dataframe tbody tr th {\n",
       "        vertical-align: top;\n",
       "    }\n",
       "\n",
       "    .dataframe thead th {\n",
       "        text-align: right;\n",
       "    }\n",
       "</style>\n",
       "<table border=\"1\" class=\"dataframe\">\n",
       "  <thead>\n",
       "    <tr style=\"text-align: right;\">\n",
       "      <th></th>\n",
       "      <th>Provincia</th>\n",
       "      <th>Poblacion</th>\n",
       "      <th>Municipio</th>\n",
       "    </tr>\n",
       "  </thead>\n",
       "  <tbody>\n",
       "    <tr>\n",
       "      <th>104</th>\n",
       "      <td>Lugo</td>\n",
       "      <td>16211.0</td>\n",
       "      <td>Viveiro</td>\n",
       "    </tr>\n",
       "  </tbody>\n",
       "</table>\n",
       "</div>"
      ],
      "text/plain": [
       "    Provincia  Poblacion Municipio\n",
       "104      Lugo    16211.0   Viveiro"
      ]
     },
     "execution_count": 11,
     "metadata": {},
     "output_type": "execute_result"
    }
   ],
   "source": [
    "df = dataSet[dataSet['Y']==dataSet['Y'].max()]\n",
    "df[[\"Provincia\", \"Poblacion\", 'Municipio']]"
   ]
  },
  {
   "attachments": {},
   "cell_type": "markdown",
   "metadata": {},
   "source": [
    "5) Obtenga la media, mediana, desviación estándar, valor\n",
    "máximo y valor mínimo de la población de los municipios\n",
    "de la provincia de Granada."
   ]
  },
  {
   "cell_type": "code",
   "execution_count": 12,
   "metadata": {},
   "outputs": [
    {
     "data": {
      "text/html": [
       "<div>\n",
       "<style scoped>\n",
       "    .dataframe tbody tr th:only-of-type {\n",
       "        vertical-align: middle;\n",
       "    }\n",
       "\n",
       "    .dataframe tbody tr th {\n",
       "        vertical-align: top;\n",
       "    }\n",
       "\n",
       "    .dataframe thead th {\n",
       "        text-align: right;\n",
       "    }\n",
       "</style>\n",
       "<table border=\"1\" class=\"dataframe\">\n",
       "  <thead>\n",
       "    <tr style=\"text-align: right;\">\n",
       "      <th></th>\n",
       "      <th>media</th>\n",
       "      <th>desviacion</th>\n",
       "      <th>mediana</th>\n",
       "      <th>maximo</th>\n",
       "      <th>minimo</th>\n",
       "    </tr>\n",
       "    <tr>\n",
       "      <th>Provincia</th>\n",
       "      <th></th>\n",
       "      <th></th>\n",
       "      <th></th>\n",
       "      <th></th>\n",
       "      <th></th>\n",
       "    </tr>\n",
       "  </thead>\n",
       "  <tbody>\n",
       "    <tr>\n",
       "      <th>Granada</th>\n",
       "      <td>30217.85</td>\n",
       "      <td>50355.491715</td>\n",
       "      <td>17526.0</td>\n",
       "      <td>239154.0</td>\n",
       "      <td>10386.0</td>\n",
       "    </tr>\n",
       "  </tbody>\n",
       "</table>\n",
       "</div>"
      ],
      "text/plain": [
       "              media    desviacion  mediana    maximo   minimo\n",
       "Provincia                                                    \n",
       "Granada    30217.85  50355.491715  17526.0  239154.0  10386.0"
      ]
     },
     "execution_count": 12,
     "metadata": {},
     "output_type": "execute_result"
    }
   ],
   "source": [
    "pob = 'Poblacion'\n",
    "df = dataSet[dataSet['Provincia'] == 'Granada'].groupby(['Provincia']).agg(\n",
    "    media=(pob, np.mean),\n",
    "    desviacion=(pob, np.std),\n",
    "    mediana=(pob, np.median),\n",
    "    maximo=(pob, np.max),\n",
    "    minimo=(pob, np.min),\n",
    ")\n",
    "df"
   ]
  },
  {
   "attachments": {},
   "cell_type": "markdown",
   "metadata": {},
   "source": [
    "6) Realice un histograma con la población de los\n",
    "Municipios para cada una de las provincias."
   ]
  },
  {
   "cell_type": "code",
   "execution_count": 13,
   "metadata": {},
   "outputs": [
    {
     "data": {
      "text/plain": [
       "(array([842.,   5.,   3.,   0.,   1.,   0.,   0.,   0.,   0.,   1.]),\n",
       " array([  10037. ,  336338.2,  662639.4,  988940.6, 1315241.8, 1641543. ,\n",
       "        1967844.2, 2294145.4, 2620446.6, 2946747.8, 3273049. ]),\n",
       " <BarContainer object of 10 artists>)"
      ]
     },
     "execution_count": 13,
     "metadata": {},
     "output_type": "execute_result"
    },
    {
     "data": {
      "image/png": "[encoded data removed]",
      "text/plain": [
       "<Figure size 1000x2000 with 1 Axes>"
      ]
     },
     "metadata": {},
     "output_type": "display_data"
    }
   ],
   "source": [
    "plt.hist(dataSet['Poblacion'])"
   ]
  },
  {
   "attachments": {},
   "cell_type": "markdown",
   "metadata": {},
   "source": [
    "ss"
   ]
  },
  {
   "cell_type": "code",
   "execution_count": 14,
   "metadata": {},
   "outputs": [
    {
     "data": {
      "text/html": [
       "<div>\n",
       "<style scoped>\n",
       "    .dataframe tbody tr th:only-of-type {\n",
       "        vertical-align: middle;\n",
       "    }\n",
       "\n",
       "    .dataframe tbody tr th {\n",
       "        vertical-align: top;\n",
       "    }\n",
       "\n",
       "    .dataframe thead th {\n",
       "        text-align: right;\n",
       "    }\n",
       "</style>\n",
       "<table border=\"1\" class=\"dataframe\">\n",
       "  <thead>\n",
       "    <tr style=\"text-align: right;\">\n",
       "      <th></th>\n",
       "      <th>Poblacion</th>\n",
       "    </tr>\n",
       "  </thead>\n",
       "  <tbody>\n",
       "    <tr>\n",
       "      <th>media</th>\n",
       "      <td>34291.920000</td>\n",
       "    </tr>\n",
       "    <tr>\n",
       "      <th>desviacion</th>\n",
       "      <td>38394.761918</td>\n",
       "    </tr>\n",
       "  </tbody>\n",
       "</table>\n",
       "</div>"
      ],
      "text/plain": [
       "               Poblacion\n",
       "media       34291.920000\n",
       "desviacion  38394.761918"
      ]
     },
     "execution_count": 14,
     "metadata": {},
     "output_type": "execute_result"
    }
   ],
   "source": [
    "# df_random = dataSet.sample(n=50)\n",
    "df_random = dataSet.groupby(['Municipio'], as_index=False).apply(lambda x: x).sample(n=50).agg(\n",
    "    media=(pob, np.mean),\n",
    "    desviacion=(pob, np.std),\n",
    ")\n",
    "df_random\n"
   ]
  }
 ],
 "metadata": {
  "kernelspec": {
   "display_name": "base",
   "language": "python",
   "name": "python3"
  },
  "language_info": {
   "codemirror_mode": {
    "name": "ipython",
    "version": 3
   },
   "file_extension": ".py",
   "mimetype": "text/x-python",
   "name": "python",
   "nbconvert_exporter": "python",
   "pygments_lexer": "ipython3",
   "version": "3.11.2"
  },
  "orig_nbformat": 4
 },
 "nbformat": 4,
 "nbformat_minor": 2
}
